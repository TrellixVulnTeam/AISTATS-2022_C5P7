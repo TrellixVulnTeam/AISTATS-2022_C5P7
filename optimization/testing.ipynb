{
 "cells": [
  {
   "cell_type": "code",
   "execution_count": 1,
   "metadata": {},
   "outputs": [],
   "source": [
    "import glob\n",
    "import pickle\n",
    "import numpy as np"
   ]
  },
  {
   "cell_type": "code",
   "execution_count": null,
   "metadata": {},
   "outputs": [],
   "source": [
    "for dtype in [\"cifar10\", \"cifar100\"]:\n",
    "    for mtype in [\"resnet18\", \"resnet50\", \"resnet101\"]:\n",
    "        print(f\"{dtype} & {mtype} &\", end=' ')\n",
    "        for optim in [\"entropy_sgd\"]:\n",
    "            errs = []\n",
    "            for fol in glob.glob(f\"checkpoints/hzgreene/{dtype}/{mtype}/{optim}/run_ms_*/run0/\"):\n",
    "                with open(f\"{fol}/measure.pkl\", \"rb\") as f:\n",
    "                    mtr = pickle.load(f)\n",
    "                errs.append(mtr['err'])\n",
    "            print(f\"{np.mean(errs):0.3f} + {np.std(errs):0.3f} &\", end=' ')\n",
    "        print('')"
   ]
  },
  {
   "cell_type": "code",
   "execution_count": 5,
   "metadata": {},
   "outputs": [
    {
     "name": "stdout",
     "output_type": "stream",
     "text": [
      "Optim & Dataset & mtype & err\n",
      "mnist & lenet & 0.646 + 0.025 & 0.626 + 0.029 & 0.776 + 0.029 & 0.598 + 0.023 & \n",
      "cifar10 & resnet18 & 11.490 + 0.393 & 9.998 + 0.165 & 11.668 + 0.136 & 9.044 + 0.185 & \n",
      "cifar10 & resnet50 & 10.212 + 0.433 & 8.812 + 0.319 & 11.196 + 0.246 & 8.602 + 0.138 & \n",
      "cifar10 & resnet101 & 9.492 + 0.483 & 8.328 + 0.305 & 11.916 + 0.502 & 8.692 + 0.128 & \n",
      "cifar100 & resnet18 & 38.286 + 0.308 & 36.168 + 0.206 & 37.730 + 0.175 & 30.022 + 0.249 & \n",
      "cifar100 & resnet50 & 35.552 + 1.111 & 33.150 + 1.078 & 38.502 + 0.550 & 30.642 + 0.505 & \n",
      "cifar100 & resnet101 & 32.876 + 0.525 & 30.806 + 0.396 & 40.436 + 0.602 & 29.972 + 0.370 & \n",
      "tinyimagenet & resnet18 & 64.142 + 0.085 & 63.148 + 0.361 & nan + nan & 59.124 + 0.267 & \n",
      "imagenet & resnet18 & 35.372 + 0.093 & "
     ]
    }
   ],
   "source": [
    "print(\"Optim & Dataset & mtype & err\")\n",
    "for dtype in [\"mnist\"]:\n",
    "    for mtype in [\"lenet\"]:\n",
    "        print(f\"{dtype} & {mtype} &\", end=' ')\n",
    "        for optim in [\"sgd\",\"sam_sgd\",\"entropy_sgd\",\"fsgd\"]:\n",
    "            errs = []\n",
    "            for fol in glob.glob(f\"checkpoints/{dtype}/{mtype}/{optim}/*\"):\n",
    "                with open(f\"{fol}/measure.pkl\", \"rb\") as f:\n",
    "                    mtr = pickle.load(f)\n",
    "                errs.append(mtr['err'])\n",
    "            print(f\"{np.mean(errs):0.3f} + {np.std(errs):0.3f} &\", end=' ')\n",
    "        print('')\n",
    "\n",
    "for dtype in [\"cifar10\", \"cifar100\"]:\n",
    "    for mtype in [\"resnet18\", \"resnet50\", \"resnet101\"]:\n",
    "        print(f\"{dtype} & {mtype} &\", end=' ')\n",
    "        for optim in [\"sgd\",\"sam_sgd\",\"entropy_sgd\",\"fsgd\"]:\n",
    "            errs = []\n",
    "            for fol in glob.glob(f\"checkpoints/{dtype}/{mtype}/{optim}/run_ms_*/run0/\"):\n",
    "                with open(f\"{fol}/measure.pkl\", \"rb\") as f:\n",
    "                    mtr = pickle.load(f)\n",
    "                errs.append(mtr['err'])\n",
    "            print(f\"{np.mean(errs):0.3f} + {np.std(errs):0.3f} &\", end=' ')\n",
    "        print('')\n",
    "for dtype in [\"tinyimagenet\"]:\n",
    "    for mtype in [\"resnet18\"]:\n",
    "        print(f\"{dtype} & {mtype} &\", end=' ')\n",
    "        for optim in [\"sgd\",\"sam_sgd\",\"entropy_sgd\",\"fsgd\"]:\n",
    "            errs = []\n",
    "            for fol in glob.glob(f\"checkpoints/{dtype}/{mtype}/{optim}/run_ms_*/run0/\"):\n",
    "                with open(f\"{fol}/measure.pkl\", \"rb\") as f:\n",
    "                    mtr = pickle.load(f)\n",
    "                errs.append(mtr['err'])\n",
    "            print(f\"{np.mean(errs):0.3f} + {np.std(errs):0.3f} &\", end=' ')\n",
    "        print('')\n",
    "\n",
    "for dtype in [\"imagenet\"]:\n",
    "    for mtype in [\"resnet18\"]:\n",
    "        print(f\"{dtype} & {mtype} &\", end=' ')\n",
    "        for optim in [\"sgd\",\"sam_sgd\",\"entropy_sgd\",\"fsgd\"]:\n",
    "            errs = []\n",
    "            for fol in glob.glob(f\"checkpoints/{dtype}/{mtype}/{optim}/run_ms_*/run0/\"):\n",
    "                with open(f\"{fol}/measure.pkl\", \"rb\") as f:\n",
    "                    mtr = pickle.load(f)\n",
    "                errs.append(mtr['err'])\n",
    "            print(f\"{np.mean(errs):0.3f} + {np.std(errs):0.3f} &\", end=' ')"
   ]
  },
  {
   "cell_type": "code",
   "execution_count": null,
   "metadata": {},
   "outputs": [],
   "source": []
  },
  {
   "cell_type": "code",
   "execution_count": null,
   "metadata": {},
   "outputs": [],
   "source": [
    "%matplotlib inline"
   ]
  },
  {
   "cell_type": "code",
   "execution_count": null,
   "metadata": {},
   "outputs": [],
   "source": [
    "import torch\n",
    "from matplotlib import pyplot as plt"
   ]
  },
  {
   "cell_type": "code",
   "execution_count": null,
   "metadata": {},
   "outputs": [],
   "source": [
    "data = torch.load('checkpoints/mnist/lenet/esgd/run_ms_0/run0/all_data.pth.tar')\n",
    "plt.plot(data['valerr'])"
   ]
  },
  {
   "cell_type": "code",
   "execution_count": null,
   "metadata": {},
   "outputs": [],
   "source": [
    "plt.plot(data['trainerr'])"
   ]
  },
  {
   "cell_type": "code",
   "execution_count": null,
   "metadata": {},
   "outputs": [],
   "source": []
  }
 ],
 "metadata": {
  "kernelspec": {
   "display_name": "Python 3",
   "language": "python",
   "name": "python3"
  },
  "language_info": {
   "codemirror_mode": {
    "name": "ipython",
    "version": 3
   },
   "file_extension": ".py",
   "mimetype": "text/x-python",
   "name": "python",
   "nbconvert_exporter": "python",
   "pygments_lexer": "ipython3",
   "version": "3.8.5"
  }
 },
 "nbformat": 4,
 "nbformat_minor": 2
}
