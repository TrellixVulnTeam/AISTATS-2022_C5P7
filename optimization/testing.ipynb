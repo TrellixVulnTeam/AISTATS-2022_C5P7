{
 "cells": [
  {
   "cell_type": "code",
   "execution_count": 1,
   "metadata": {},
   "outputs": [],
   "source": [
    "import glob\n",
    "import pickle\n",
    "import numpy as np\n",
    "from scipy import stats\n"
   ]
  },
  {
   "cell_type": "code",
   "execution_count": 5,
   "metadata": {},
   "outputs": [
    {
     "name": "stdout",
     "output_type": "stream",
     "text": [
      "Optim & Dataset & mtype & err\n",
      "cifar10 & resnet18 & $11.5_{\\pm0.3}$ & $10.0_{\\pm0.1}$ & $11.7_{\\pm0.1}$ & $9.0_{\\pm0.2}$ & \n",
      "cifar10 & resnet50 & $10.2_{\\pm0.4}$ & $8.8_{\\pm0.3}$ & $11.2_{\\pm0.2}$ & $8.6_{\\pm0.1}$ & \n",
      "cifar10 & resnet101 & $9.5_{\\pm0.4}$ & $8.3_{\\pm0.3}$ & $11.9_{\\pm0.4}$ & $8.7_{\\pm0.1}$ & \n",
      "cifar100 & resnet18 & $38.3_{\\pm0.3}$ & $36.2_{\\pm0.2}$ & $37.7_{\\pm0.2}$ & $30.0_{\\pm0.2}$ & \n",
      "cifar100 & resnet50 & $35.6_{\\pm1.0}$ & $33.1_{\\pm0.9}$ & $38.5_{\\pm0.5}$ & $30.6_{\\pm0.4}$ & \n",
      "cifar100 & resnet101 & $32.9_{\\pm0.5}$ & $30.8_{\\pm0.3}$ & $40.4_{\\pm0.5}$ & $30.0_{\\pm0.3}$ & \n"
     ]
    }
   ],
   "source": [
    "print(\"Optim & Dataset & mtype & err\")\n",
    "# for dtype in [\"mnist\"]:\n",
    "#     for mtype in [\"lenet\"]:\n",
    "#         print(f\"{dtype} & {mtype} &\", end=' ')\n",
    "#         for optim in [\"sgd\",\"sam_sgd\",\"entropy_sgd\",\"fsgd\"]:\n",
    "#             errs = []\n",
    "#             if optim != 'entropy_sgd':\n",
    "#                 for fol in glob.glob(f\"checkpoints/{dtype}/{mtype}/{optim}/*\"):\n",
    "#                     with open(f\"{fol}/measure.pkl\", \"rb\") as f:\n",
    "#                         mtr = pickle.load(f)\n",
    "#                     errs.append(mtr['err'])\n",
    "#             else:\n",
    "#                 for fol in glob.glob(f\"checkpoints/entropy_sgd/{dtype}/{mtype}/{optim}/*\"):\n",
    "#                     with open(f\"{fol}/measure.pkl\", \"rb\") as f:\n",
    "#                         mtr = pickle.load(f)\n",
    "#                     errs.append(mtr['err'])\n",
    "#             std = stats.norm.interval(.95, loc = np.mean(errs), scale = np.std(errs)/np.sqrt(len(errs)))\n",
    "#             std =  std[1] - np.mean(errs)\n",
    "#             print(f\"${np.mean(errs):0.2f}_{{\\pm{std:0.1f}}}$ &\", end=' ')\n",
    "#         print('')\n",
    "\n",
    "for dtype in [\"cifar10\", \"cifar100\"]:\n",
    "    for mtype in [\"resnet18\",\"resnet50\",\"resnet101\"]:\n",
    "        print(f\"{dtype} & {mtype} &\", end=' ')\n",
    "        for optim in [\"sgd\",\"sam_sgd\",\"entropy_sgd\",\"fsgd\"]:\n",
    "            errs = []\n",
    "            for fol in glob.glob(f\"checkpoints/{dtype}/{mtype}/{optim}/run_ms_*/run0/\"):\n",
    "                with open(f\"{fol}/measure.pkl\", \"rb\") as f:\n",
    "                    mtr = pickle.load(f)\n",
    "                errs.append(mtr['err'])\n",
    "            std = stats.norm.interval(.95, loc = np.mean(errs), scale = np.std(errs)/np.sqrt(len(errs)))\n",
    "            std =  std[1] - np.mean(errs)\n",
    "            print(f\"${np.mean(errs):0.1f}_{{\\pm{std:0.1f}}}$ &\", end=' ')\n",
    "        print('')\n",
    "\n",
    "# for dtype in [\"tinyimagenet\"]:\n",
    "#     for mtype in [\"resnet18\"]:\n",
    "#         print(f\"{dtype} & {mtype} &\", end=' ')\n",
    "#         for optim in [\"sgd\",\"sam_sgd\",\"fsgd\"]:\n",
    "#             errs = []\n",
    "#             for fol in glob.glob(f\"checkpoints/{dtype}/{mtype}/{optim}/run_ms_*/run0/\"):\n",
    "#                 with open(f\"{fol}/measure.pkl\", \"rb\") as f:\n",
    "#                     mtr = pickle.load(f)\n",
    "#                 errs.append(mtr['err'])\n",
    "#             std = stats.norm.interval(.95, loc = np.mean(errs), scale = np.std(errs)/np.sqrt(len(errs)))\n",
    "#             std =  std[1] - np.mean(errs)\n",
    "#             print(f\"${np.mean(errs):0.1f}_{{\\pm{std:0.1f}}}$ &\", end=' ')\n",
    "#         print('')\n",
    "\n",
    "# for dtype in [\"imagenet\"]:\n",
    "#     for mtype in [\"resnet18\"]:\n",
    "#         print(f\"{dtype} & {mtype} &\", end=' ')\n",
    "#         for optim in [\"sgd\",\"sam_sgd\",\"fsgd\"]:\n",
    "#             errs = []\n",
    "#             for fol in glob.glob(f\"checkpoints/{dtype}/{mtype}/{optim}/run_ms_*/run0/\"):\n",
    "#                 with open(f\"{fol}/measure.pkl\", \"rb\") as f:\n",
    "#                     mtr = pickle.load(f)\n",
    "#                 errs.append(mtr['err'])\n",
    "            \n",
    "#             print(f\"${np.mean(errs):0.1f}_{{{np.std(errs):0.1f}}}$ &\", end=' ')"
   ]
  },
  {
   "cell_type": "code",
   "execution_count": null,
   "metadata": {},
   "outputs": [],
   "source": [
    "errs"
   ]
  },
  {
   "cell_type": "code",
   "execution_count": null,
   "metadata": {},
   "outputs": [],
   "source": []
  }
 ],
 "metadata": {
  "kernelspec": {
   "display_name": "Python 3",
   "language": "python",
   "name": "python3"
  },
  "language_info": {
   "codemirror_mode": {
    "name": "ipython",
    "version": 3
   },
   "file_extension": ".py",
   "mimetype": "text/x-python",
   "name": "python",
   "nbconvert_exporter": "python",
   "pygments_lexer": "ipython3",
   "version": "3.8.8"
  }
 },
 "nbformat": 4,
 "nbformat_minor": 2
}
