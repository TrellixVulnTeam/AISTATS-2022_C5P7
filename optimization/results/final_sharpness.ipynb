{
 "cells": [
  {
   "cell_type": "code",
   "execution_count": 1,
   "metadata": {},
   "outputs": [],
   "source": [
    "%matplotlib inline"
   ]
  },
  {
   "cell_type": "code",
   "execution_count": 2,
   "metadata": {},
   "outputs": [],
   "source": [
    "import numpy as np\n",
    "import pickle\n",
    "import glob"
   ]
  },
  {
   "cell_type": "code",
   "execution_count": null,
   "metadata": {},
   "outputs": [],
   "source": [
    "print(f\"{'Opt':<7}\", end=\"&\")\n",
    "for meas in [\"shannon\", \"eps_flat\", \"pac_bayes\", \"fim\", \"low_pass\", \"val_err\", \"gen_gap\"]:    \n",
    "    print(f\"{meas:<12}\", end=\"&\")\n",
    "print('')\n",
    "\n",
    "for opt in ['sgd', 'sam_sgd', 'fsgd']:\n",
    "    print(f\"{opt:<7}\",end='')\n",
    "    for meas in [\"shannon_entropy\", \"eps_flat\", \"pac_bayes\", \"fim\", \"low_pass\", \"val_err\", \"gen_gap\"]:\n",
    "        v = []\n",
    "        for file in glob.glob(f\"../checkpoints/mnist/lenet/{opt}/run_ms_[1]/sharp_measures.pkl\"):\n",
    "            with open(file, 'rb') as f:\n",
    "                data = pickle.load(f)\n",
    "            \n",
    "            if meas == 'gen_gap':\n",
    "                v.append(-data[\"val_acc\"] + data[\"train_acc\"])\n",
    "            elif meas == 'val_err':\n",
    "                v.append(100 - data[\"val_acc\"])\n",
    "            else:\n",
    "                v.append(data[meas])\n",
    "        print(f\"{np.mean(v):<12.4f}\", end='')\n",
    "    print('')"
   ]
  },
  {
   "cell_type": "code",
   "execution_count": 13,
   "metadata": {},
   "outputs": [
    {
     "name": "stdout",
     "output_type": "stream",
     "text": [
      "##############################cifar100######################################\n",
      "##############################resnet101######################################\n",
      "$||H||_{F}$ & $\\epsilon-sharpness$ & $\\mu_{PAC-Bayes}$ & FRN & Shannon & LPF & val_err & \n",
      "1.00&0.56&1.00&1.00&0.34&1.00&32.73\n",
      "0.46&0.43&0.64&0.55&0.25&0.41&30.70\n",
      "0.59&1.00&0.44&0.44&1.00&0.12&29.89\n",
      "\n"
     ]
    }
   ],
   "source": [
    "for dtype in [\"cifar100\"]:\n",
    "    print(f\"##############################{dtype}######################################\")\n",
    "    for mtype in [\"resnet101\"]:\n",
    "        print(f\"##############################{mtype}######################################\")\n",
    "        for meas in [\"$||H||_{F}$\", \"$\\epsilon-sharpness$\", \"$\\mu_{PAC-Bayes}$\", \"FRN\", \"Shannon\",\"LPF\", \"val_err\"]:    \n",
    "            print(f\"{meas}\", end=\" & \")\n",
    "        print('')\n",
    "        all_data = np.zeros((3, len(meas)))\n",
    "        for i,opt in enumerate(['sgd', 'sam_sgd', 'fsgd']):\n",
    "#             print(f\"{opt}\",end=\" & \")\n",
    "            for j,meas in enumerate([\"fro_norm\", \"eps_flat\", \"pac_bayes\", \"fim\", \"shannon_entropy\", \"low_pass\", \"val_err\"]):\n",
    "                v = []\n",
    "                for file in glob.glob(f\"../checkpoints/{dtype}/{mtype}/{opt}/run_ms_[1,2,3,4]/run0/sharp_measures.pkl\"):\n",
    "                    with open(file, 'rb') as f:\n",
    "                        data = pickle.load(f)\n",
    "\n",
    "                    if meas == 'gen_gap':\n",
    "                        v.append(-data[\"val_acc\"] + data[\"train_acc\"])\n",
    "                    elif meas == 'val_err':\n",
    "                        v.append(100 - data[\"val_acc\"])\n",
    "                    else:\n",
    "                        if meas in data:\n",
    "                            v.append(data[meas])\n",
    "                all_data[i,j] = np.mean(v)\n",
    "        all_data[:,:-1] = all_data[:,:-1] / np.max(all_data[:,:-1], 0)\n",
    "        for i in range(3):\n",
    "            print('&'.join([f\"{x:0.2f}\" for x in all_data[i,:]]))\n",
    "        print(\"\")"
   ]
  },
  {
   "cell_type": "code",
   "execution_count": 5,
   "metadata": {},
   "outputs": [
    {
     "data": {
      "text/plain": [
       "array([[1.21081983e+00, 2.73935691e+00, 9.24684595e+07, 2.13164272e+01,\n",
       "        2.59670559e-02, 1.63912630e-02, 3.28760040e+01],\n",
       "       [5.18563719e-01, 1.97870412e+00, 5.78196207e+07, 1.12877545e+01,\n",
       "        1.84904218e-02, 6.33363346e-03, 3.08060013e+01],\n",
       "       [1.36738329e+01, 6.10645358e+00, 4.98687737e+07, 1.45926578e+02,\n",
       "        1.17167678e-01, 5.30754692e-02, 2.99720016e+01]])"
      ]
     },
     "execution_count": 5,
     "metadata": {},
     "output_type": "execute_result"
    }
   ],
   "source": [
    "all_data"
   ]
  },
  {
   "cell_type": "code",
   "execution_count": null,
   "metadata": {},
   "outputs": [],
   "source": [
    "for dtype in [\"cifar100\"]:\n",
    "    for mtype in [\"resnet101\"]:\n",
    "        print(f\"{'Opt':<7}\", end=\"\")\n",
    "        for meas in [\"shannon\", \"eps_flat\", \"pac_bayes\",\"fim\",\"fro_norm\",\"low_pass\", \"val_err\"]:    \n",
    "            print(f\"{meas:<15}\", end=\"\")\n",
    "        print('')\n",
    "        for opt in ['sgd', 'sam_sgd', 'fsgd']:\n",
    "            print(f\"{opt:<7}\",end='')\n",
    "            for meas in [\"shannon_entropy\", \"eps_flat\", \"pac_bayes\",\"fim\",\"fro_norm\",\"low_pass\", \"val_err\"]:\n",
    "                v = []\n",
    "                for file in glob.glob(f\"../checkpoints/{dtype}/{mtype}/{opt}/run_ms_*/run0/sharp_measures.pkl\"):\n",
    "                    if 'run_ms_0' in file:\n",
    "                        continue\n",
    "                    with open(file, 'rb') as f:\n",
    "                        data = pickle.load(f)\n",
    "\n",
    "                    if meas == 'gen_gap':\n",
    "                        v.append(-data[\"val_acc\"] + data[\"train_acc\"])\n",
    "                    elif meas == 'val_err':\n",
    "                        v.append(100 - data[\"val_acc\"])\n",
    "                    else:\n",
    "                        if meas in data:\n",
    "                            v.append(data[meas])\n",
    "                print(f\"{np.mean(v):<15.4f}\", end='')\n",
    "            print('')\n",
    "        print(\"\")"
   ]
  },
  {
   "cell_type": "code",
   "execution_count": null,
   "metadata": {},
   "outputs": [],
   "source": []
  }
 ],
 "metadata": {
  "kernelspec": {
   "display_name": "Python 3",
   "language": "python",
   "name": "python3"
  },
  "language_info": {
   "codemirror_mode": {
    "name": "ipython",
    "version": 3
   },
   "file_extension": ".py",
   "mimetype": "text/x-python",
   "name": "python",
   "nbconvert_exporter": "python",
   "pygments_lexer": "ipython3",
   "version": "3.8.8"
  }
 },
 "nbformat": 4,
 "nbformat_minor": 4
}
