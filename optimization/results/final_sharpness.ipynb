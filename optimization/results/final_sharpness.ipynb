{
 "cells": [
  {
   "cell_type": "code",
   "execution_count": 1,
   "metadata": {},
   "outputs": [],
   "source": [
    "%matplotlib inline"
   ]
  },
  {
   "cell_type": "code",
   "execution_count": 2,
   "metadata": {},
   "outputs": [],
   "source": [
    "import numpy as np\n",
    "import pickle\n",
    "import glob"
   ]
  },
  {
   "cell_type": "code",
   "execution_count": 13,
   "metadata": {},
   "outputs": [
    {
     "name": "stdout",
     "output_type": "stream",
     "text": [
      "Opt    &shannon     &eps_flat    &pac_bayes   &fim         &low_pass    &val_err     &gen_gap     &\n",
      "sgd    0.0032      1.2955      18635.0627  0.1591      0.0012      0.6800      0.6733      \n",
      "sam_sgd0.0039      1.3235      18148.8647  0.1975      0.0014      0.6600      0.6467      \n",
      "fsgd   0.0050      1.5850      17295.9560  0.2114      0.0021      0.6300      0.5967      \n"
     ]
    }
   ],
   "source": [
    "print(f\"{'Opt':<7}\", end=\"&\")\n",
    "for meas in [\"shannon\", \"eps_flat\", \"pac_bayes\", \"fim\", \"low_pass\", \"val_err\", \"gen_gap\"]:    \n",
    "    print(f\"{meas:<12}\", end=\"&\")\n",
    "print('')\n",
    "\n",
    "for opt in ['sgd', 'sam_sgd', 'fsgd']:\n",
    "    print(f\"{opt:<7}\",end='')\n",
    "    for meas in [\"shannon_entropy\", \"eps_flat\", \"pac_bayes\", \"fim\", \"low_pass\", \"val_err\", \"gen_gap\"]:\n",
    "        v = []\n",
    "        for file in glob.glob(f\"../checkpoints/mnist/lenet/{opt}/run_ms_3/sharp_measures.pkl\"):\n",
    "            with open(file, 'rb') as f:\n",
    "                data = pickle.load(f)\n",
    "            \n",
    "            if meas == 'gen_gap':\n",
    "                v.append(-data[\"val_acc\"] + data[\"train_acc\"])\n",
    "            elif meas == 'val_err':\n",
    "                v.append(100 - data[\"val_acc\"])\n",
    "            else:\n",
    "                v.append(data[meas])\n",
    "        print(f\"{np.mean(v):<12.4f}\", end='')\n",
    "    print('')"
   ]
  },
  {
   "cell_type": "code",
   "execution_count": 27,
   "metadata": {},
   "outputs": [
    {
     "name": "stdout",
     "output_type": "stream",
     "text": [
      "##############################cifar10######################################\n",
      "##############################resnet18######################################\n",
      "Opt & shannon & eps_flat & pac_bayes & fim & fro_norm & low_pass & val_err & \n",
      "sgd & 0.0127 & 2.5118 & 4708595.4752 & 4.6492 & 0.6627 & 0.0052 & 11.4900 & \n",
      "sam_sgd & 0.0077 & 1.7347 & 3304122.1015 & 2.1150 & 0.2227 & 0.0021 & 9.9980 & \n",
      "fsgd & 0.0027 & 4.8490 & 2741382.1045 & 2.1165 & 0.4719 & 0.0009 & 9.0440 & \n",
      "\n",
      "##############################resnet50######################################\n",
      "Opt & shannon & eps_flat & pac_bayes & fim & fro_norm & low_pass & val_err & \n",
      "sgd & 0.0082 & 2.2193 & 13095615.9691 & 6.0572 & 0.3961 & 0.0018 & 10.2120 & \n",
      "sam_sgd & 0.0049 & 2.1084 & 8673080.6621 & 3.8955 & 0.1446 & 0.0008 & 8.8120 & \n",
      "fsgd & 0.0020 & 5.1295 & 11519134.9208 & 3.4195 & 0.3128 & 0.0005 & 8.6020 & \n",
      "\n",
      "##############################resnet101######################################\n",
      "Opt & shannon & eps_flat & pac_bayes & fim & fro_norm & low_pass & val_err & \n",
      "sgd & 0.0078 & 2.4959 & 20034980.7436 & 6.8420 & 0.3654 & 0.0015 & 9.4920 & \n",
      "sam_sgd & 0.0052 & 1.9274 & 14120368.4583 & 4.0688 & 0.1305 & 0.0008 & 8.3280 & \n",
      "fsgd & 0.0025 & 4.2007 & 19829667.4661 & 3.3506 & 0.2726 & 0.0005 & 8.6920 & \n",
      "\n",
      "##############################cifar100######################################\n",
      "##############################resnet18######################################\n",
      "Opt & shannon & eps_flat & pac_bayes & fim & fro_norm & low_pass & val_err & \n",
      "sgd & 0.0275 & 4.5615 & 12296625.2054 & 17.4575 & 2.2170 & 0.0349 & 38.2860 & \n",
      "sam_sgd & 0.0214 & 3.3808 & 9615247.8594 & 11.8340 & 1.1212 & 0.0182 & 36.1680 & \n",
      "fsgd & 0.0424 & 7.1794 & 7209162.4572 & 59.7405 & 12.3311 & 0.0313 & 30.0240 & \n",
      "\n",
      "##############################resnet50######################################\n",
      "Opt & shannon & eps_flat & pac_bayes & fim & fro_norm & low_pass & val_err & \n",
      "sgd & 0.0303 & 2.7794 & 52271799.3408 & 27.9822 & 1.9810 & 0.0231 & 35.5520 & \n",
      "sam_sgd & 0.0195 & 2.9964 & 40745313.5309 & 12.3198 & 0.6796 & 0.0106 & 33.1500 & \n",
      "fsgd & 0.0197 & 5.5918 & 27903885.6473 & 44.8872 & 3.6802 & 0.0096 & 30.6420 & \n",
      "\n",
      "##############################resnet101######################################\n",
      "Opt & shannon & eps_flat & pac_bayes & fim & fro_norm & low_pass & val_err & \n",
      "sgd & 0.0260 & 2.7394 & 92468459.4834 & 21.3164 & 1.2108 & 0.0164 & 32.8760 & \n",
      "sam_sgd & 0.0185 & 1.9787 & 57819620.7034 & 11.2878 & 0.5186 & 0.0063 & 30.8060 & \n",
      "fsgd & 0.1172 & 6.1065 & 49868773.6754 & 145.9266 & 13.6738 & 0.0531 & 29.9720 & \n",
      "\n"
     ]
    }
   ],
   "source": [
    "for dtype in [\"cifar10\", \"cifar100\"]:\n",
    "    print(f\"##############################{dtype}######################################\")\n",
    "    for mtype in [\"resnet18\", \"resnet50\", \"resnet101\"]:\n",
    "        print(f\"##############################{mtype}######################################\")\n",
    "        print(f\"{'Opt'}\", end=\" & \")\n",
    "        for meas in [\"shannon\", \"eps_flat\", \"pac_bayes\",\"fim\",\"fro_norm\",\"low_pass\", \"val_err\"]:    \n",
    "            print(f\"{meas}\", end=\" & \")\n",
    "        print('')\n",
    "        for opt in ['sgd', 'sam_sgd', 'fsgd']:\n",
    "            print(f\"{opt}\",end=\" & \")\n",
    "            for meas in [\"shannon_entropy\", \"eps_flat\", \"pac_bayes\",\"fim\",\"fro_norm\",\"low_pass\", \"val_err\"]:\n",
    "                v = []\n",
    "                for file in glob.glob(f\"../checkpoints/{dtype}/{mtype}/{opt}/run_ms_*/run0/sharp_measures.pkl\"):\n",
    "                    with open(file, 'rb') as f:\n",
    "                        data = pickle.load(f)\n",
    "\n",
    "                    if meas == 'gen_gap':\n",
    "                        v.append(-data[\"val_acc\"] + data[\"train_acc\"])\n",
    "                    elif meas == 'val_err':\n",
    "                        v.append(100 - data[\"val_acc\"])\n",
    "                    else:\n",
    "                        if meas in data:\n",
    "                            v.append(data[meas])\n",
    "                print(f\"{np.mean(v):.4f}\", end=\" & \")\n",
    "            print('')\n",
    "        print(\"\")"
   ]
  },
  {
   "cell_type": "code",
   "execution_count": 32,
   "metadata": {},
   "outputs": [
    {
     "name": "stdout",
     "output_type": "stream",
     "text": [
      "Opt    shannon        eps_flat       pac_bayes      fim            fro_norm       low_pass       val_err        \n",
      "sgd    0.0255         2.6509         87836637.8780  20.0825        1.0644         0.0146         32.7250        \n",
      "sam_sgd0.0183         2.0215         55895053.9045  11.0345        0.4867         0.0060         30.7000        \n",
      "fsgd   0.0746         4.7372         38543039.5486  8.8168         0.6256         0.0017         29.8850        \n",
      "\n"
     ]
    }
   ],
   "source": [
    "for dtype in [\"cifar100\"]:\n",
    "    for mtype in [\"resnet101\"]:\n",
    "        print(f\"{'Opt':<7}\", end=\"\")\n",
    "        for meas in [\"shannon\", \"eps_flat\", \"pac_bayes\",\"fim\",\"fro_norm\",\"low_pass\", \"val_err\"]:    \n",
    "            print(f\"{meas:<15}\", end=\"\")\n",
    "        print('')\n",
    "        for opt in ['sgd', 'sam_sgd', 'fsgd']:\n",
    "            print(f\"{opt:<7}\",end='')\n",
    "            for meas in [\"shannon_entropy\", \"eps_flat\", \"pac_bayes\",\"fim\",\"fro_norm\",\"low_pass\", \"val_err\"]:\n",
    "                v = []\n",
    "                for file in glob.glob(f\"../checkpoints/{dtype}/{mtype}/{opt}/run_ms_*/run0/sharp_measures.pkl\"):\n",
    "                    if 'run_ms_0' in file:\n",
    "                        continue\n",
    "                    with open(file, 'rb') as f:\n",
    "                        data = pickle.load(f)\n",
    "\n",
    "                    if meas == 'gen_gap':\n",
    "                        v.append(-data[\"val_acc\"] + data[\"train_acc\"])\n",
    "                    elif meas == 'val_err':\n",
    "                        v.append(100 - data[\"val_acc\"])\n",
    "                    else:\n",
    "                        if meas in data:\n",
    "                            v.append(data[meas])\n",
    "                print(f\"{np.mean(v):<15.4f}\", end='')\n",
    "            print('')\n",
    "        print(\"\")"
   ]
  },
  {
   "cell_type": "code",
   "execution_count": null,
   "metadata": {},
   "outputs": [],
   "source": []
  }
 ],
 "metadata": {
  "kernelspec": {
   "display_name": "Python 3",
   "language": "python",
   "name": "python3"
  },
  "language_info": {
   "codemirror_mode": {
    "name": "ipython",
    "version": 3
   },
   "file_extension": ".py",
   "mimetype": "text/x-python",
   "name": "python",
   "nbconvert_exporter": "python",
   "pygments_lexer": "ipython3",
   "version": "3.8.5"
  }
 },
 "nbformat": 4,
 "nbformat_minor": 4
}
