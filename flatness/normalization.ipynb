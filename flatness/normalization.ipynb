{
 "cells": [
  {
   "cell_type": "code",
   "execution_count": 1,
   "metadata": {},
   "outputs": [],
   "source": [
    "%matplotlib inline"
   ]
  },
  {
   "cell_type": "code",
   "execution_count": 4,
   "metadata": {},
   "outputs": [],
   "source": [
    "from matplotlib.pylab import *\n",
    "# style.use(\"style_sheet.mplstyle\")\n",
    "\n",
    "rc('figure', figsize=(6, 4))\n",
    "rc('savefig', bbox='tight')\n",
    "plt.rcParams.update({'font.size': 18})"
   ]
  },
  {
   "cell_type": "code",
   "execution_count": 8,
   "metadata": {},
   "outputs": [],
   "source": [
    "import torch\n",
    "import numpy as np\n",
    "from models import resnet18_narrow\n",
    "import glob\n",
    "from args import get_args"
   ]
  },
  {
   "cell_type": "code",
   "execution_count": 12,
   "metadata": {},
   "outputs": [
    {
     "data": {
      "text/plain": [
       "<matplotlib.collections.PathCollection at 0x7feebc3ffb70>"
      ]
     },
     "execution_count": 12,
     "metadata": {},
     "output_type": "execute_result"
    },
    {
     "data": {
      "image/png": "[encoded data removed]",
      "text/plain": [
       "<Figure size 432x288 with 1 Axes>"
      ]
     },
     "metadata": {
      "needs_background": "light"
     },
     "output_type": "display_data"
    }
   ],
   "source": [
    "args = get_args([\"--exp_num\", \"0\", \"--dtype\", \"cifar10\"])\n",
    "\n",
    "# ResNet18\n",
    "fig, ax = plt.subplots()\n",
    "\n",
    "params = {}\n",
    "norms = [[],[]]\n",
    "model = resnet18_narrow(args)\n",
    "\n",
    "for n, p in model.named_parameters():\n",
    "    new_n = ''.join(n.split('.')[:-1])\n",
    "    if new_n not in params.keys():\n",
    "        params[new_n] = [p]\n",
    "    else:\n",
    "        params[new_n].append(p)\n",
    "\n",
    "for i,item in enumerate(params.items()):\n",
    "    k,v = item\n",
    "    if len(v) == 1:\n",
    "        s = v[0].shape[0]\n",
    "        norms[0] += [i]*s \n",
    "        norms[1] += list((v[0].data.view(s,-1).norm(dim=1)).numpy())\n",
    "    elif len(v) == 2:\n",
    "        if k == 'linear':\n",
    "            continue\n",
    "        else:\n",
    "            s = v[0].shape[0]\n",
    "            norms[0] += [i]*s\n",
    "            norms[1] += list((v[0].data.abs() + v[1].data.abs()).numpy())\n",
    "    else:\n",
    "        print(f\"Problem in {k}\")\n",
    "\n",
    "params = {}\n",
    "re_norms = [[],[]]\n",
    "model = resnet18_narrow(args)\n",
    "model.norm()\n",
    "for n, p in model.named_parameters():\n",
    "    new_n = ''.join(n.split('.')[:-1])\n",
    "    if new_n not in params.keys():\n",
    "        params[new_n] = [p]\n",
    "    else:\n",
    "        params[new_n].append(p)\n",
    "\n",
    "for i,item in enumerate(params.items()):\n",
    "    k,v = item\n",
    "    if len(v) == 1:\n",
    "        s = v[0].shape[0]\n",
    "        re_norms[0] += [i]*s \n",
    "        re_norms[1] += list((v[0].data.view(s,-1).norm(dim=1)).numpy())\n",
    "    elif len(v) == 2:\n",
    "        if k == 'linear':\n",
    "            continue\n",
    "        else:\n",
    "            s = v[0].shape[0]\n",
    "            re_norms[0] += [i]*s\n",
    "            re_norms[1] += list((v[0].data.abs() + v[1].data.abs()).numpy())\n",
    "    else:\n",
    "        print(f\"Problem in {k}\")\n",
    "        \n",
    "ax.scatter(norms[0], norms[1], marker='s')\n",
    "ax.scatter(re_norms[0], re_norms[1], marker='*')\n",
    "# ax.set_xlabel(\"Layer number\")\n",
    "# ax.set_ylabel(\"Layer norm\")\n",
    "# ax.set_title(\"Norm of filters at each layer\")\n",
    "# ax.legend([\"original model\", \"normalized model\"], fancybox=True, shadow=True, frameon=True, loc=0,handletextpad=0.1)\n",
    "# plt.savefig(\"resnet.png\")"
   ]
  },
  {
   "cell_type": "code",
   "execution_count": null,
   "metadata": {},
   "outputs": [],
   "source": []
  }
 ],
 "metadata": {
  "kernelspec": {
   "display_name": "Python 3",
   "language": "python",
   "name": "python3"
  },
  "language_info": {
   "codemirror_mode": {
    "name": "ipython",
    "version": 3
   },
   "file_extension": ".py",
   "mimetype": "text/x-python",
   "name": "python",
   "nbconvert_exporter": "python",
   "pygments_lexer": "ipython3",
   "version": "3.7.3"
  }
 },
 "nbformat": 4,
 "nbformat_minor": 2
}
