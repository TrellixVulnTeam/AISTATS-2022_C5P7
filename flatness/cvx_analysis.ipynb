{
 "cells": [
  {
   "cell_type": "code",
   "execution_count": 1,
   "metadata": {},
   "outputs": [],
   "source": [
    "%matplotlib inline"
   ]
  },
  {
   "cell_type": "code",
   "execution_count": 2,
   "metadata": {},
   "outputs": [],
   "source": [
    "from matplotlib.pylab import *"
   ]
  },
  {
   "cell_type": "code",
   "execution_count": 3,
   "metadata": {},
   "outputs": [],
   "source": [
    "# repo = \"https://raw.githubusercontent.com/nicoguaro/matplotlib_styles/master\"\n",
    "# style.use(\"style_sheet.mplstyle\")\n",
    "\n",
    "rc('figure', figsize=(8, 4))\n",
    "rc('savefig', bbox='tight')\n",
    "plt.rcParams.update({'font.size': 16})\n",
    "\n",
    "import numpy as np"
   ]
  },
  {
   "cell_type": "code",
   "execution_count": null,
   "metadata": {},
   "outputs": [],
   "source": [
    "fig = plt.figure(figsize=(14, 4))\n",
    "ax1 = plt.subplot2grid(shape=(1,2), loc=(0,0), colspan=1)\n",
    "# ax2 = plt.subplot2grid(shape=(1,2), loc=(0,1), colspan=1, sharex=ax1)\n",
    "\n",
    "# gradually decreasing the eigen values\n",
    "with open(\"results/invest_cvx_func_first_set.npy\",\"rb\") as f:\n",
    "    all_data = np.load(f)\n",
    "\n",
    "labels = [\"$\\epsilon$-sharp\", \"PAC\", \"$||H||_{F}$\", \"FIM\", \"Local Entropy\", \"Trace\", \"Low pass\",]\n",
    "for i in range(7):\n",
    "    ax1.plot([x/100 for x in range(0,101,5)], all_data[i, :] / all_data[i,:].max(),'o--', linewidth=3)\n",
    "#     ax2.plot([x/100 for x in range(0,101,5)], all_data[i, :] / all_data[i,:].max(),'o--', linewidth=3)\n",
    "\n",
    "ax1.set_xlabel(\"Fraction of eigen values of hessian below 1e-3\")\n",
    "ax1.set_ylabel(\"Sharpness measures\")\n",
    "# ax2.set_xlim([0.4,1.01])\n",
    "# ax2.set_ylim([0.4,1.01])\n",
    "# mean  eigenvalue\n",
    "# with open(\"results/invest_cvx_func_unif_10percent.npy\",\"rb\") as f:\n",
    "#     all_data = np.load(f)\n",
    "\n",
    "# for i in range(6):\n",
    "#     ax2.plot([x for x in range(1,101,3)], all_data[i, :]/ all_data[i,:].max(),'--o', linewidth=3)\n",
    "\n",
    "fig.legend(labels, loc='center', ncol=1, bbox_to_anchor=[0.57, 0.58])\n",
    "# ax2.set_xlabel(\"mean eigen value\")\n",
    "# ax2.set_ylabel(\"Sharpness measures\")\n",
    "# ax2.set_xlim([80, 20])\n",
    "# ax2.set_ylim([0.2, 0.9])\n",
    "\n",
    "fig.savefig(\"results/cvx_func_present.png\")"
   ]
  },
  {
   "cell_type": "code",
   "execution_count": null,
   "metadata": {},
   "outputs": [],
   "source": []
  },
  {
   "cell_type": "code",
   "execution_count": null,
   "metadata": {},
   "outputs": [],
   "source": []
  }
 ],
 "metadata": {
  "kernelspec": {
   "display_name": "Python 3",
   "language": "python",
   "name": "python3"
  },
  "language_info": {
   "codemirror_mode": {
    "name": "ipython",
    "version": 3
   },
   "file_extension": ".py",
   "mimetype": "text/x-python",
   "name": "python",
   "nbconvert_exporter": "python",
   "pygments_lexer": "ipython3",
   "version": "3.8.5"
  }
 },
 "nbformat": 4,
 "nbformat_minor": 2
}
