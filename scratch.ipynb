{
 "cells": [
  {
   "cell_type": "code",
   "execution_count": null,
   "metadata": {},
   "outputs": [],
   "source": [
    "import torch                                                                                          \n",
    "import torch.nn as nn\n",
    "import torch.nn.functional as F\n",
    "import torch.optim as optim\n",
    "from torchvision import transforms, datasets\n",
    "import numpy as np\n",
    "import time \n",
    "\n",
    "class conv_net(nn.Module):\n",
    "    def __init__(self):\n",
    "        super(conv_net, self).__init__()\n",
    "        self.conv1 = nn.Conv2d(1, 32, 3, 1)\n",
    "        self.conv2 = nn.Conv2d(32, 64, 3, 1)\n",
    "        self.dropout1 = nn.Dropout2d(0.25)\n",
    "        self.dropout2 = nn.Dropout2d(0.5)\n",
    "        self.fc1 = nn.Linear(9216, 128)\n",
    "        self.fc2 = nn.Linear(128, 10)\n",
    "\n",
    "    def forward(self, x):\n",
    "        x = self.conv1(x)\n",
    "        x = F.relu(x)\n",
    "        x = self.conv2(x)\n",
    "        x = F.relu(x)\n",
    "        x = F.max_pool2d(x, 2)\n",
    "        x = self.dropout1(x)\n",
    "        x = torch.flatten(x, 1)\n",
    "        x = self.fc1(x)\n",
    "        x = F.relu(x)\n",
    "        x = self.dropout2(x)\n",
    "        x = self.fc2(x)\n",
    "        return x\n",
    "    \n",
    "def get_hessian(batch_loss, model):\n",
    "    t = time.time()\n",
    "\n",
    "    grads = torch.autograd.grad(batch_loss, model.parameters(), create_graph=True)\n",
    "    grads = torch.cat([x.view(-1) for x in grads])\n",
    "    hessian = torch.zeros((grads.shape[0], grads.shape[0]))\n",
    "    i = 0\n",
    "    for grad_t in grads:\n",
    "        for g in grad_t.reshape(-1):\n",
    "            hess = torch.autograd.grad(g, model.parameters(), retain_graph = True)\n",
    "            hess = torch.cat([h.reshape(-1) for h in hess])\n",
    "            hessian[i,:] = hess\n",
    "            i+=1\n",
    "\n",
    "    print(f\"Time elapsed:{time.time() - t}\")\n",
    "    return hessian"
   ]
  },
  {
   "cell_type": "code",
   "execution_count": null,
   "metadata": {},
   "outputs": [],
   "source": [
    "input_data = torch.randn(1,1,28,28)\n",
    "label_data = torch.Tensor([1]).type(torch.LongTensor)\n",
    "\n",
    "model = conv_net()\n",
    "model.train()\n",
    "criterion = nn.CrossEntropyLoss()"
   ]
  },
  {
   "cell_type": "code",
   "execution_count": null,
   "metadata": {},
   "outputs": [],
   "source": [
    "outputs = model(input_data)\n",
    "batch_loss = criterion(outputs, label_data)"
   ]
  },
  {
   "cell_type": "code",
   "execution_count": null,
   "metadata": {},
   "outputs": [],
   "source": [
    "get_hessian(batch_loss, model)"
   ]
  },
  {
   "cell_type": "code",
   "execution_count": null,
   "metadata": {},
   "outputs": [],
   "source": []
  }
 ],
 "metadata": {
  "kernelspec": {
   "display_name": "Python 3",
   "language": "python",
   "name": "python3"
  },
  "language_info": {
   "codemirror_mode": {
    "name": "ipython",
    "version": 3
   },
   "file_extension": ".py",
   "mimetype": "text/x-python",
   "name": "python",
   "nbconvert_exporter": "python",
   "pygments_lexer": "ipython3",
   "version": "3.7.3"
  }
 },
 "nbformat": 4,
 "nbformat_minor": 2
}
