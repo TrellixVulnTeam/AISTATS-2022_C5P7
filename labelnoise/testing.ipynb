{
 "cells": [
  {
   "cell_type": "code",
   "execution_count": 2,
   "metadata": {},
   "outputs": [],
   "source": [
    "import glob\n",
    "import pickle\n",
    "import numpy as np"
   ]
  },
  {
   "cell_type": "code",
   "execution_count": 9,
   "metadata": {},
   "outputs": [
    {
     "name": "stdout",
     "output_type": "stream",
     "text": [
      "cifar100 & resnet18 & "
     ]
    },
    {
     "ename": "FileNotFoundError",
     "evalue": "[Errno 2] No such file or directory: 'checkpoints/cifar100_augment/resnet18/sgd/run_ms_2/run0//measure.pkl'",
     "output_type": "error",
     "traceback": [
      "\u001b[0;31m---------------------------------------------------------------------------\u001b[0m",
      "\u001b[0;31mFileNotFoundError\u001b[0m                         Traceback (most recent call last)",
      "\u001b[0;32m<ipython-input-9-ae286419d6d0>\u001b[0m in \u001b[0;36m<module>\u001b[0;34m\u001b[0m\n\u001b[1;32m      5\u001b[0m             \u001b[0merrs\u001b[0m \u001b[0;34m=\u001b[0m \u001b[0;34m[\u001b[0m\u001b[0;34m]\u001b[0m\u001b[0;34m\u001b[0m\u001b[0;34m\u001b[0m\u001b[0m\n\u001b[1;32m      6\u001b[0m             \u001b[0;32mfor\u001b[0m \u001b[0mfol\u001b[0m \u001b[0;32min\u001b[0m \u001b[0mglob\u001b[0m\u001b[0;34m.\u001b[0m\u001b[0mglob\u001b[0m\u001b[0;34m(\u001b[0m\u001b[0;34mf\"checkpoints/{dtype}_augment/{mtype}/{optim}/run_ms_*/run0/\"\u001b[0m\u001b[0;34m)\u001b[0m\u001b[0;34m:\u001b[0m\u001b[0;34m\u001b[0m\u001b[0;34m\u001b[0m\u001b[0m\n\u001b[0;32m----> 7\u001b[0;31m                 \u001b[0;32mwith\u001b[0m \u001b[0mopen\u001b[0m\u001b[0;34m(\u001b[0m\u001b[0;34mf\"{fol}/measure.pkl\"\u001b[0m\u001b[0;34m,\u001b[0m \u001b[0;34m\"rb\"\u001b[0m\u001b[0;34m)\u001b[0m \u001b[0;32mas\u001b[0m \u001b[0mf\u001b[0m\u001b[0;34m:\u001b[0m\u001b[0;34m\u001b[0m\u001b[0;34m\u001b[0m\u001b[0m\n\u001b[0m\u001b[1;32m      8\u001b[0m                     \u001b[0mmtr\u001b[0m \u001b[0;34m=\u001b[0m \u001b[0mpickle\u001b[0m\u001b[0;34m.\u001b[0m\u001b[0mload\u001b[0m\u001b[0;34m(\u001b[0m\u001b[0mf\u001b[0m\u001b[0;34m)\u001b[0m\u001b[0;34m\u001b[0m\u001b[0;34m\u001b[0m\u001b[0m\n\u001b[1;32m      9\u001b[0m                 \u001b[0merrs\u001b[0m\u001b[0;34m.\u001b[0m\u001b[0mappend\u001b[0m\u001b[0;34m(\u001b[0m\u001b[0mmtr\u001b[0m\u001b[0;34m[\u001b[0m\u001b[0;34m'err'\u001b[0m\u001b[0;34m]\u001b[0m\u001b[0;34m)\u001b[0m\u001b[0;34m\u001b[0m\u001b[0;34m\u001b[0m\u001b[0m\n",
      "\u001b[0;31mFileNotFoundError\u001b[0m: [Errno 2] No such file or directory: 'checkpoints/cifar100_augment/resnet18/sgd/run_ms_2/run0//measure.pkl'"
     ]
    }
   ],
   "source": [
    "for dtype in [\"cifar100\"]:\n",
    "    for mtype in [\"resnet18\", \"resnet50\", \"resnet101\"]:\n",
    "        print(f\"{dtype} & {mtype} &\", end=' ')\n",
    "        for optim in [\"sgd\",\"sam_sgd\", \"fsgd\"]:\n",
    "            errs = []\n",
    "            for fol in glob.glob(f\"checkpoints/{dtype}_augment/{mtype}/{optim}/run_ms_*/run0/\"):\n",
    "                with open(f\"{fol}/measure.pkl\", \"rb\") as f:\n",
    "                    mtr = pickle.load(f)\n",
    "                errs.append(mtr['err'])\n",
    "            print(f\"{np.mean(errs):0.3f} + {np.std(errs):0.3f} &\", end=' ')\n",
    "        print('')"
   ]
  },
  {
   "cell_type": "code",
   "execution_count": 8,
   "metadata": {},
   "outputs": [
    {
     "name": "stdout",
     "output_type": "stream",
     "text": [
      "Optim & Dataset & mtype & err\n",
      "mnist & lenet & 0.646 + 0.025 & 0.626 + 0.029 & 0.776 + 0.029 & 0.598 + 0.023 & \n",
      "cifar10 & resnet18 & 11.490 + 0.393 & 9.998 + 0.165 & 11.668 + 0.136 & 9.044 + 0.185 & \n",
      "cifar10 & resnet50 & 10.212 + 0.433 & 8.812 + 0.319 & 11.196 + 0.246 & 8.602 + 0.138 & \n",
      "cifar10 & resnet101 & 9.492 + 0.483 & 8.328 + 0.305 & 11.916 + 0.502 & 8.692 + 0.128 & \n",
      "cifar100 & resnet18 & 38.286 + 0.308 & 36.168 + 0.206 & 37.730 + 0.175 & 30.022 + 0.249 & \n",
      "cifar100 & resnet50 & 35.552 + 1.111 & 33.150 + 1.078 & 38.502 + 0.550 & 30.642 + 0.505 & \n",
      "cifar100 & resnet101 & 32.876 + 0.525 & 30.806 + 0.396 & 40.436 + 0.602 & 29.972 + 0.370 & \n",
      "tinyimagenet & resnet18 & 64.142 + 0.085 & 63.148 + 0.361 & nan + nan & 59.124 + 0.267 & \n",
      "imagenet & resnet18 & 36.475 + 0.092 & 35.942 + 0.130 & nan + nan & 35.372 + 0.093 & "
     ]
    }
   ],
   "source": [
    "print(\"Optim & Dataset & mtype & err\")\n",
    "for dtype in [\"mnist\"]:\n",
    "    for mtype in [\"lenet\"]:\n",
    "        print(f\"{dtype} & {mtype} &\", end=' ')\n",
    "        for optim in [\"sgd\",\"sam_sgd\",\"entropy_sgd\",\"fsgd\"]:\n",
    "            errs = []\n",
    "            for fol in glob.glob(f\"checkpoints/{dtype}/{mtype}/{optim}/*\"):\n",
    "                with open(f\"{fol}/measure.pkl\", \"rb\") as f:\n",
    "                    mtr = pickle.load(f)\n",
    "                errs.append(mtr['err'])\n",
    "            print(f\"{np.mean(errs):0.3f} + {np.std(errs):0.3f} &\", end=' ')\n",
    "        print('')\n",
    "\n",
    "for dtype in [\"cifar10\", \"cifar100\"]:\n",
    "    for mtype in [\"resnet18\", \"resnet50\", \"resnet101\"]:\n",
    "        print(f\"{dtype} & {mtype} &\", end=' ')\n",
    "        for optim in [\"sgd\",\"sam_sgd\",\"entropy_sgd\",\"fsgd\"]:\n",
    "            errs = []\n",
    "            for fol in glob.glob(f\"checkpoints/{dtype}/{mtype}/{optim}/run_ms_*/run0/\"):\n",
    "                with open(f\"{fol}/measure.pkl\", \"rb\") as f:\n",
    "                    mtr = pickle.load(f)\n",
    "                errs.append(mtr['err'])\n",
    "            print(f\"{np.mean(errs):0.3f} + {np.std(errs):0.3f} &\", end=' ')\n",
    "        print('')\n",
    "for dtype in [\"tinyimagenet\"]:\n",
    "    for mtype in [\"resnet18\"]:\n",
    "        print(f\"{dtype} & {mtype} &\", end=' ')\n",
    "        for optim in [\"sgd\",\"sam_sgd\",\"entropy_sgd\",\"fsgd\"]:\n",
    "            errs = []\n",
    "            for fol in glob.glob(f\"checkpoints/{dtype}/{mtype}/{optim}/run_ms_*/run0/\"):\n",
    "                with open(f\"{fol}/measure.pkl\", \"rb\") as f:\n",
    "                    mtr = pickle.load(f)\n",
    "                errs.append(mtr['err'])\n",
    "            print(f\"{np.mean(errs):0.3f} + {np.std(errs):0.3f} &\", end=' ')\n",
    "        print('')\n",
    "\n",
    "for dtype in [\"imagenet\"]:\n",
    "    for mtype in [\"resnet18\"]:\n",
    "        print(f\"{dtype} & {mtype} &\", end=' ')\n",
    "        for optim in [\"sgd\",\"sam_sgd\",\"entropy_sgd\",\"fsgd\"]:\n",
    "            errs = []\n",
    "            for fol in glob.glob(f\"checkpoints/{dtype}/{mtype}/{optim}/run_ms_*/run0/\"):\n",
    "                with open(f\"{fol}/measure.pkl\", \"rb\") as f:\n",
    "                    mtr = pickle.load(f)\n",
    "                errs.append(mtr['err'])\n",
    "            print(f\"{np.mean(errs):0.3f} + {np.std(errs):0.3f} &\", end=' ')"
   ]
  }
 ],
 "metadata": {
  "kernelspec": {
   "display_name": "Python 3",
   "language": "python",
   "name": "python3"
  },
  "language_info": {
   "codemirror_mode": {
    "name": "ipython",
    "version": 3
   },
   "file_extension": ".py",
   "mimetype": "text/x-python",
   "name": "python",
   "nbconvert_exporter": "python",
   "pygments_lexer": "ipython3",
   "version": "3.8.5"
  }
 },
 "nbformat": 4,
 "nbformat_minor": 2
}
